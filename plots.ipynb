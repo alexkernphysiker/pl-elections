{
 "cells": [
  {
   "cell_type": "code",
   "execution_count": null,
   "metadata": {
    "tags": []
   },
   "outputs": [],
   "source": [
    "import pandas as pd\n",
    "import matplotlib.pyplot as plt\n",
    "import matplotlib.colors as mcolors\n",
    "def plot_data(name,data, list_of_candidates):\n",
    "    data['Liczba wyborców uprawnionych do głosowania']=data['Liczba wyborców uprawnionych do głosowania']\\\n",
    "                                                            .replace(['-'],'0').astype(int)\n",
    "    data['Liczba głosów ważnych oddanych łącznie na wszystkich kandydatów']=data['Liczba głosów ważnych oddanych łącznie na wszystkich kandydatów']\\\n",
    "                                                                                .replace(['-'],'0').astype(int)\n",
    "    data = data[data['Liczba głosów ważnych oddanych łącznie na wszystkich kandydatów']>0]\n",
    "\n",
    "    fig = plt.figure()\n",
    "    fig.set_size_inches(15, 10, forward=True)\n",
    "    \n",
    "    ax=fig.add_subplot(111)\n",
    "    for c in list_of_candidates:\n",
    "        voices=[0]*100\n",
    "        for index, row in data.iterrows():\n",
    "            att= row['Liczba głosów ważnych oddanych łącznie na wszystkich kandydatów']\\\n",
    "               / row['Liczba wyborców uprawnionych do głosowania']\n",
    "            if att>0:\n",
    "                index=int(att*100)\n",
    "                if index>=0 and index<100:\n",
    "                    voices[index] += float(row[c])/1000\n",
    "                    pass\n",
    "                pass\n",
    "            pass\n",
    "        ax.plot(list(range(100)),voices, label=c)\n",
    "        pass\n",
    "    ax.title.set_text(str(name) + \". Roskład głosów\")\n",
    "    ax.set_xlabel(\"frekwencja w obwodzie, proc.\")\n",
    "    ax.set_ylabel(\"tysiące głosów \\n na 1 proc. frekwencji\")\n",
    "    ax.legend(loc=2)\n",
    "\n",
    "    plt.draw()\n",
    "\n",
    "    fig = plt.figure()\n",
    "    fig.set_size_inches(15 , 10*len(list_of_candidates), forward=True)\n",
    "    \n",
    "    index=0\n",
    "    attendance=100 * data['Liczba głosów ważnych oddanych łącznie na wszystkich kandydatów']\\\n",
    "                   / data['Liczba wyborców uprawnionych do głosowania']\n",
    "    for c in list_of_candidates:\n",
    "        index+=1\n",
    "        ax = fig.add_subplot(100*len(list_of_candidates)+10+index)\n",
    "        data[c]=data[c].replace(['-'],'0')\n",
    "        voices= 100 * data[c].astype(int) / data['Liczba głosów ważnych oddanych łącznie na wszystkich kandydatów'].astype(int)\n",
    "        ax.hist2d(attendance, voices, bins=[50,50], norm=mcolors.PowerNorm(0.5))\n",
    "        ax.title.set_text(str(name) + \". Roskład obwodów\")\n",
    "        ax.set_xlabel(\"frekwencja\")\n",
    "        ax.set_ylabel(\"procenty głosów na \\n\"+c)\n",
    "        pass\n",
    "    plt.draw()\n",
    "    pass\n",
    "\n",
    "    "
   ]
  },
  {
   "cell_type": "code",
   "execution_count": null,
   "metadata": {},
   "outputs": [],
   "source": [
    "data2020_1=pd.read_csv(\"2020_1.csv\", sep=';', low_memory=False)\n",
    "data2020_1.columns"
   ]
  },
  {
   "cell_type": "code",
   "execution_count": null,
   "metadata": {},
   "outputs": [],
   "source": [
    "plot_data(\"Pierwsza tura\",data2020_1,['Andrzej Sebastian DUDA', 'Rafał Kazimierz TRZASKOWSKI','Szymon Franciszek HOŁOWNIA'])"
   ]
  },
  {
   "cell_type": "code",
   "execution_count": null,
   "metadata": {},
   "outputs": [],
   "source": [
    "data2020_2=pd.read_csv(\"2020_2.csv\", sep=';')\n",
    "plot_data(\"Druga tura\",data2020_2,['Andrzej Sebastian DUDA', 'Rafał Kazimierz TRZASKOWSKI'])"
   ]
  },
  {
   "cell_type": "code",
   "execution_count": null,
   "metadata": {},
   "outputs": [],
   "source": [
    "for t in data2020_2['Typ obszaru'].unique():\n",
    "    plot_data(t,data2020_2[data2020_2['Typ obszaru']==t],['Andrzej Sebastian DUDA', 'Rafał Kazimierz TRZASKOWSKI'])"
   ]
  },
  {
   "cell_type": "code",
   "execution_count": null,
   "metadata": {},
   "outputs": [],
   "source": [
    "for t in data2020_2['Województwo'].unique():\n",
    "    plot_data(t,data2020_2[data2020_2['Województwo']==t],['Andrzej Sebastian DUDA', 'Rafał Kazimierz TRZASKOWSKI'])"
   ]
  },
  {
   "cell_type": "code",
   "execution_count": null,
   "metadata": {},
   "outputs": [],
   "source": []
  },
  {
   "cell_type": "code",
   "execution_count": null,
   "metadata": {},
   "outputs": [],
   "source": []
  },
  {
   "cell_type": "code",
   "execution_count": null,
   "metadata": {},
   "outputs": [],
   "source": []
  }
 ],
 "metadata": {
  "kernelspec": {
   "display_name": "Python 3",
   "language": "python",
   "name": "python3"
  },
  "language_info": {
   "codemirror_mode": {
    "name": "ipython",
    "version": 3
   },
   "file_extension": ".py",
   "mimetype": "text/x-python",
   "name": "python",
   "nbconvert_exporter": "python",
   "pygments_lexer": "ipython3",
   "version": "3.8.5"
  },
  "latex_envs": {
   "LaTeX_envs_menu_present": true,
   "autoclose": false,
   "autocomplete": true,
   "bibliofile": "biblio.bib",
   "cite_by": "apalike",
   "current_citInitial": 1,
   "eqLabelWithNumbers": true,
   "eqNumInitial": 1,
   "hotkeys": {
    "equation": "Ctrl-E",
    "itemize": "Ctrl-I"
   },
   "labels_anchors": false,
   "latex_user_defs": false,
   "report_style_numbering": false,
   "user_envs_cfg": false
  }
 },
 "nbformat": 4,
 "nbformat_minor": 2
}
